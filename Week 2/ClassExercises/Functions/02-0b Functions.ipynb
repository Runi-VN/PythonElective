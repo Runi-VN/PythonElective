{
 "nbformat": 4,
 "nbformat_minor": 2,
 "metadata": {
  "language_info": {
   "name": "python",
   "codemirror_mode": {
    "name": "ipython",
    "version": 3
   },
   "version": "3.7.4-final"
  },
  "orig_nbformat": 2,
  "file_extension": ".py",
  "mimetype": "text/x-python",
  "name": "python",
  "npconvert_exporter": "python",
  "pygments_lexer": "ipython3",
  "version": 3,
  "kernelspec": {
   "name": "python37464bitruninvirtualenvecf6425ac64845b097be9029e7b18373",
   "display_name": "Python 3.7.4 64-bit ('runin': virtualenv)"
  }
 },
 "cells": [
  {
   "cell_type": "markdown",
   "execution_count": 1,
   "metadata": {},
   "outputs": [
    {
     "ename": "SyntaxError",
     "evalue": "invalid syntax (<ipython-input-1-4e6e5672bcd0>, line 1)",
     "output_type": "error",
     "traceback": [
      "\u001b[1;36m  File \u001b[1;32m\"<ipython-input-1-4e6e5672bcd0>\"\u001b[1;36m, line \u001b[1;32m1\u001b[0m\n\u001b[1;33m    Write a function that iterates through a list and prints each value without using a loop.\u001b[0m\n\u001b[1;37m          ^\u001b[0m\n\u001b[1;31mSyntaxError\u001b[0m\u001b[1;31m:\u001b[0m invalid syntax\n"
     ]
    }
   ],
   "source": [
    "#### Exercise 1\n",
    "*Write a function that iterates through a list and prints each value **without using a loop**.\n",
    "That is, write a recursive function to print the values of a list.*"
   ]
  },
  {
   "cell_type": "code",
   "execution_count": 2,
   "metadata": {},
   "outputs": [
    {
     "name": "stdout",
     "output_type": "stream",
     "text": "Jonna\nJack\nJanni\nJesper\n"
    }
   ],
   "source": [
    "names = [\"Jonna\",\"Jack\",\"Janni\",\"Jesper\"]\n",
    "\n",
    "def recurse_list_print(position, array):\n",
    "    if (position <= len(array)-1):\n",
    "        print(array[position])\n",
    "        recurse_list_print(position+1, array)\n",
    "\n",
    "recurse_list_print(0,names)"
   ]
  },
  {
   "cell_type": "markdown",
   "execution_count": null,
   "metadata": {},
   "outputs": [],
   "source": [
    "#### Exercise 2\n",
    "\n",
    "*Write a function that can take any number of arguments and return all arguments concatenated or summed depending on the data type*"
   ]
  },
  {
   "cell_type": "code",
   "execution_count": 6,
   "metadata": {},
   "outputs": [
    {
     "name": "stdout",
     "output_type": "stream",
     "text": "12.5\ntesthelloworld\n"
    }
   ],
   "source": [
    "def multi_argument(*data):\n",
    "    concat_string = ''\n",
    "    concat_number = 0\n",
    "    for element in data:\n",
    "        if (type(element) is str):\n",
    "            if (element.isnumeric()):\n",
    "                concat_number += float(element) #works for both int and floats, just covers cases with decimals\n",
    "            else:\n",
    "                concat_string += (element)\n",
    "        elif (type(element) is int or float):\n",
    "            concat_number += element\n",
    "    return concat_number, concat_string\n",
    "\n",
    "full_number, full_string = multi_argument(2, 'test', 3.5,'2','hello', 'world', 5)\n",
    "print(full_number)\n",
    "print(full_string)"
   ]
  }
 ]
}