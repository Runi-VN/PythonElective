{
 "nbformat": 4,
 "nbformat_minor": 2,
 "metadata": {
  "language_info": {
   "name": "python",
   "codemirror_mode": {
    "name": "ipython",
    "version": 3
   },
   "version": "3.7.4-final"
  },
  "orig_nbformat": 2,
  "file_extension": ".py",
  "mimetype": "text/x-python",
  "name": "python",
  "npconvert_exporter": "python",
  "pygments_lexer": "ipython3",
  "version": 3,
  "kernelspec": {
   "name": "python37464bitbaseconda01b24787fbdc40668565bac606a7d7f2",
   "display_name": "Python 3.7.4 64-bit ('base': conda)"
  }
 },
 "cells": [
  {
   "cell_type": "markdown",
   "execution_count": null,
   "metadata": {},
   "outputs": [],
   "source": [
    "### 1) Write a program that creates gramatically valid English sentences.\n",
    "\n",
    "*Here, we consider a sentence to be gramatically correct when it follows the simple English grammar of the form: Article Adjective Noun Verb. That is, even the sentence A insect fly. is, for the moment, considered correct.*  \n",
    "\n",
    "*Create additionally to the exercise above, a list of definite and indefinite articles and verbs from an online resource.*"
   ]
  },
  {
   "cell_type": "code",
   "execution_count": 9,
   "metadata": {},
   "outputs": [],
   "source": [
    "articles = ['a', 'an', 'the']\n",
    "\n",
    "adjectives = ['attractive', 'bald', 'beautiful', 'chubby']\n",
    "#, 'clean', 'dazzling', 'drab', 'elegant', 'fancy', 'fit', 'flabby', 'glamorous', 'gorgeous', 'handsome', 'long', 'magnificent', 'muscular', 'plain', 'plump', 'quaint', 'scruffy', 'shapely', 'short', 'skinny', 'stocky', 'ugly', 'unkempt', 'unsightly'\n",
    "nouns = ['people', 'history', 'way', 'art']\n",
    "#, 'world', 'information', 'map', 'two', 'family', 'government', 'health', 'system', 'computer', 'meat', 'year', 'thanks', 'music', 'person', 'reading', 'method', 'data', 'food', 'understanding', 'theory', 'law', 'bird', 'literature', 'problem', 'software', 'control', 'knowledge' \n",
    "verbs = ['cease', 'allege', 'sustain', 'force']\n",
    "#, 'tax', 'believe', 'snap', 'base', 'centre', 'announce', 'arouse', 'invite', 'complain', 'function', 'bow'"
   ]
  },
  {
   "cell_type": "code",
   "execution_count": 10,
   "metadata": {},
   "outputs": [
    {
     "name": "stdout",
     "output_type": "stream",
     "text": "a attractive people cease\na attractive people allege\na attractive people sustain\na attractive people force\na attractive history cease\na attractive history allege\na attractive history sustain\na attractive history force\na attractive way cease\na attractive way allege\na attractive way sustain\na attractive way force\na attractive art cease\na attractive art allege\na attractive art sustain\na attractive art force\na bald people cease\na bald people allege\na bald people sustain\na bald people force\na bald history cease\na bald history allege\na bald history sustain\na bald history force\na bald way cease\na bald way allege\na bald way sustain\na bald way force\na bald art cease\na bald art allege\na bald art sustain\na bald art force\na beautiful people cease\na beautiful people allege\na beautiful people sustain\na beautiful people force\na beautiful history cease\na beautiful history allege\na beautiful history sustain\na beautiful history force\na beautiful way cease\na beautiful way allege\na beautiful way sustain\na beautiful way force\na beautiful art cease\na beautiful art allege\na beautiful art sustain\na beautiful art force\na chubby people cease\na chubby people allege\na chubby people sustain\na chubby people force\na chubby history cease\na chubby history allege\na chubby history sustain\na chubby history force\na chubby way cease\na chubby way allege\na chubby way sustain\na chubby way force\na chubby art cease\na chubby art allege\na chubby art sustain\na chubby art force\nan attractive people cease\nan attractive people allege\nan attractive people sustain\nan attractive people force\nan attractive history cease\nan attractive history allege\nan attractive history sustain\nan attractive history force\nan attractive way cease\nan attractive way allege\nan attractive way sustain\nan attractive way force\nan attractive art cease\nan attractive art allege\nan attractive art sustain\nan attractive art force\nan bald people cease\nan bald people allege\nan bald people sustain\nan bald people force\nan bald history cease\nan bald history allege\nan bald history sustain\nan bald history force\nan bald way cease\nan bald way allege\nan bald way sustain\nan bald way force\nan bald art cease\nan bald art allege\nan bald art sustain\nan bald art force\nan beautiful people cease\nan beautiful people allege\nan beautiful people sustain\nan beautiful people force\nan beautiful history cease\nan beautiful history allege\nan beautiful history sustain\nan beautiful history force\nan beautiful way cease\nan beautiful way allege\nan beautiful way sustain\nan beautiful way force\nan beautiful art cease\nan beautiful art allege\nan beautiful art sustain\nan beautiful art force\nan chubby people cease\nan chubby people allege\nan chubby people sustain\nan chubby people force\nan chubby history cease\nan chubby history allege\nan chubby history sustain\nan chubby history force\nan chubby way cease\nan chubby way allege\nan chubby way sustain\nan chubby way force\nan chubby art cease\nan chubby art allege\nan chubby art sustain\nan chubby art force\nthe attractive people cease\nthe attractive people allege\nthe attractive people sustain\nthe attractive people force\nthe attractive history cease\nthe attractive history allege\nthe attractive history sustain\nthe attractive history force\nthe attractive way cease\nthe attractive way allege\nthe attractive way sustain\nthe attractive way force\nthe attractive art cease\nthe attractive art allege\nthe attractive art sustain\nthe attractive art force\nthe bald people cease\nthe bald people allege\nthe bald people sustain\nthe bald people force\nthe bald history cease\nthe bald history allege\nthe bald history sustain\nthe bald history force\nthe bald way cease\nthe bald way allege\nthe bald way sustain\nthe bald way force\nthe bald art cease\nthe bald art allege\nthe bald art sustain\nthe bald art force\nthe beautiful people cease\nthe beautiful people allege\nthe beautiful people sustain\nthe beautiful people force\nthe beautiful history cease\nthe beautiful history allege\nthe beautiful history sustain\nthe beautiful history force\nthe beautiful way cease\nthe beautiful way allege\nthe beautiful way sustain\nthe beautiful way force\nthe beautiful art cease\nthe beautiful art allege\nthe beautiful art sustain\nthe beautiful art force\nthe chubby people cease\nthe chubby people allege\nthe chubby people sustain\nthe chubby people force\nthe chubby history cease\nthe chubby history allege\nthe chubby history sustain\nthe chubby history force\nthe chubby way cease\nthe chubby way allege\nthe chubby way sustain\nthe chubby way force\nthe chubby art cease\nthe chubby art allege\nthe chubby art sustain\nthe chubby art force\n"
    }
   ],
   "source": [
    "for art in articles:\n",
    "    for adj in adjectives:\n",
    "        for nou in nouns:\n",
    "            for ver in verbs:\n",
    "                print(' '.join([art, adj, nou, ver]))"
   ]
  }
 ]
}