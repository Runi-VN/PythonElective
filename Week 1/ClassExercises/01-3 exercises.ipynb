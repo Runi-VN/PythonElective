{
 "nbformat": 4,
 "nbformat_minor": 2,
 "metadata": {
  "language_info": {
   "name": "python",
   "codemirror_mode": {
    "name": "ipython",
    "version": 3
   },
   "version": "3.7.4-final"
  },
  "orig_nbformat": 2,
  "file_extension": ".py",
  "mimetype": "text/x-python",
  "name": "python",
  "npconvert_exporter": "python",
  "pygments_lexer": "ipython3",
  "version": 3,
  "kernelspec": {
   "name": "python37464bitbaseconda01b24787fbdc40668565bac606a7d7f2",
   "display_name": "Python 3.7.4 64-bit ('base': conda)"
  }
 },
 "cells": [
  {
   "cell_type": "markdown",
   "execution_count": null,
   "metadata": {},
   "outputs": [],
   "source": [
    "1) **Use the range() function to make a list of the odd numbers from 1 to 20.**"
   ]
  },
  {
   "cell_type": "code",
   "execution_count": 4,
   "metadata": {},
   "outputs": [
    {
     "data": {
      "text/plain": "[1, 3, 5, 7, 9, 11, 13, 15, 17, 19]"
     },
     "execution_count": 4,
     "metadata": {},
     "output_type": "execute_result"
    }
   ],
   "source": [
    "result_list = []\n",
    "for i in range(21): #starts at 0, ends at 20\n",
    "        if i % 2 != 0: result_list.append(i)\n",
    "result_list"
   ]
  },
  {
   "cell_type": "markdown",
   "execution_count": null,
   "metadata": {},
   "outputs": [],
   "source": [
    "2) **Create a list with the even number values from two to one million. Use min() and max() to make sure your list actually starts at two and ends at one million. Also, use the sum() function to compute the sum of all values. Time the execution time using %timeit.**\n"
   ]
  },
  {
   "cell_type": "code",
   "execution_count": 38,
   "metadata": {},
   "outputs": [
    {
     "name": "stdout",
     "output_type": "stream",
     "text": "---first approach start---\nThe lists lowest number should be 2 and is 2. Is that correct?: True\nThe lists lowest number should be 1000000 and is 1000000. Is that correct?: True\nSum of list:  250000500000\ntiming first approach: 1.0417272999998204\n---first approach end---\n---second approach start---\nThe lists lowest number should be 2 and is 2. Is that correct?: True\nThe lists lowest number should be 1000000 and is 1000000. Is that correct?: True\nSum of list:  250000500000\ntiming second approach: 0.8202657000001636\n---second approach end---\n"
    }
   ],
   "source": [
    "import timeit\n",
    "\n",
    "result_list = []\n",
    "print('---first approach start---')\n",
    "for i in range(2, 1000001): \n",
    "    if i % 2 == 0: result_list.append(i) #could be done with the step function too\n",
    "#print(result_list)\n",
    "lowestNumber = min(result_list)\n",
    "higestNumber = max(result_list)\n",
    "print(f'The lists lowest number should be 2 and is {lowestNumber}. Is that correct?:', lowestNumber == 2 )\n",
    "print(f'The lists lowest number should be 1000000 and is {higestNumber}. Is that correct?:', higestNumber == 1000000 )\n",
    "print('Sum of list: ', sum(result_list))\n",
    "cmd = \"\"\"\n",
    "result_list100 = []\n",
    "for i in range(2, 1000001): \n",
    "    if i % 2 == 0: result_list100.append(i)\"\"\"\n",
    "print('timing first approach:', timeit.timeit(cmd, number=10))\n",
    "print('---first approach end---')\n",
    "print('---second approach start---')\n",
    "result_list2 = [value for value in range(2, 1000001) if value % 2 == 0]\n",
    "lowestNumber2 = min(result_list2)\n",
    "higestNumber2 = max(result_list2)\n",
    "print(f'The lists lowest number should be 2 and is {lowestNumber2}. Is that correct?:', lowestNumber2 == 2 )\n",
    "print(f'The lists lowest number should be 1000000 and is {higestNumber2}. Is that correct?:', higestNumber2 == 1000000 )\n",
    "print('Sum of list: ', sum(result_list2))\n",
    "cmd2 = \"\"\"\n",
    "result_list100 = [value for value in range(2, 1000001) if value % 2 == 0]\"\"\"\n",
    "print('timing second approach:', timeit.timeit(cmd2, number=10))\n",
    "print('---second approach end---')"
   ]
  },
  {
   "cell_type": "markdown",
   "execution_count": null,
   "metadata": {},
   "outputs": [],
   "source": [
    "3) **Create a list of the multiples of 3 - going from 3 to 300. HINT: USE A LIST COMPREHENSION**"
   ]
  },
  {
   "cell_type": "code",
   "execution_count": 39,
   "metadata": {},
   "outputs": [
    {
     "data": {
      "text/plain": "[9,\n 12,\n 15,\n 18,\n 21,\n 24,\n 27,\n 30,\n 33,\n 36,\n 39,\n 42,\n 45,\n 48,\n 51,\n 54,\n 57,\n 60,\n 63,\n 66,\n 69,\n 72,\n 75,\n 78,\n 81,\n 84,\n 87,\n 90,\n 93,\n 96,\n 99,\n 102,\n 105,\n 108,\n 111,\n 114,\n 117,\n 120,\n 123,\n 126,\n 129,\n 132,\n 135,\n 138,\n 141,\n 144,\n 147,\n 150,\n 153,\n 156,\n 159,\n 162,\n 165,\n 168,\n 171,\n 174,\n 177,\n 180,\n 183,\n 186,\n 189,\n 192,\n 195,\n 198,\n 201,\n 204,\n 207,\n 210,\n 213,\n 216,\n 219,\n 222,\n 225,\n 228,\n 231,\n 234,\n 237,\n 240,\n 243,\n 246,\n 249,\n 252,\n 255,\n 258,\n 261,\n 264,\n 267,\n 270,\n 273,\n 276,\n 279,\n 282,\n 285,\n 288,\n 291,\n 294,\n 297,\n 300,\n 303,\n 306,\n 309,\n 312,\n 315,\n 318,\n 321,\n 324,\n 327,\n 330,\n 333,\n 336,\n 339,\n 342,\n 345,\n 348,\n 351,\n 354,\n 357,\n 360,\n 363,\n 366,\n 369,\n 372,\n 375,\n 378,\n 381,\n 384,\n 387,\n 390,\n 393,\n 396,\n 399,\n 402,\n 405,\n 408,\n 411,\n 414,\n 417,\n 420,\n 423,\n 426,\n 429,\n 432,\n 435,\n 438,\n 441,\n 444,\n 447,\n 450,\n 453,\n 456,\n 459,\n 462,\n 465,\n 468,\n 471,\n 474,\n 477,\n 480,\n 483,\n 486,\n 489,\n 492,\n 495,\n 498,\n 501,\n 504,\n 507,\n 510,\n 513,\n 516,\n 519,\n 522,\n 525,\n 528,\n 531,\n 534,\n 537,\n 540,\n 543,\n 546,\n 549,\n 552,\n 555,\n 558,\n 561,\n 564,\n 567,\n 570,\n 573,\n 576,\n 579,\n 582,\n 585,\n 588,\n 591,\n 594,\n 597,\n 600,\n 603,\n 606,\n 609,\n 612,\n 615,\n 618,\n 621,\n 624,\n 627,\n 630,\n 633,\n 636,\n 639,\n 642,\n 645,\n 648,\n 651,\n 654,\n 657,\n 660,\n 663,\n 666,\n 669,\n 672,\n 675,\n 678,\n 681,\n 684,\n 687,\n 690,\n 693,\n 696,\n 699,\n 702,\n 705,\n 708,\n 711,\n 714,\n 717,\n 720,\n 723,\n 726,\n 729,\n 732,\n 735,\n 738,\n 741,\n 744,\n 747,\n 750,\n 753,\n 756,\n 759,\n 762,\n 765,\n 768,\n 771,\n 774,\n 777,\n 780,\n 783,\n 786,\n 789,\n 792,\n 795,\n 798,\n 801,\n 804,\n 807,\n 810,\n 813,\n 816,\n 819,\n 822,\n 825,\n 828,\n 831,\n 834,\n 837,\n 840,\n 843,\n 846,\n 849,\n 852,\n 855,\n 858,\n 861,\n 864,\n 867,\n 870,\n 873,\n 876,\n 879,\n 882,\n 885,\n 888,\n 891,\n 894,\n 897,\n 900]"
     },
     "execution_count": 39,
     "metadata": {},
     "output_type": "execute_result"
    }
   ],
   "source": [
    "multiples_of_3 = [value*3 for value in range(3, 301)]\n",
    "multiples_of_3"
   ]
  },
  {
   "cell_type": "markdown",
   "execution_count": 40,
   "metadata": {},
   "outputs": [
    {
     "ename": "SyntaxError",
     "evalue": "invalid syntax (<ipython-input-40-ef18cf3240b4>, line 1)",
     "output_type": "error",
     "traceback": [
      "\u001b[1;36m  File \u001b[1;32m\"<ipython-input-40-ef18cf3240b4>\"\u001b[1;36m, line \u001b[1;32m1\u001b[0m\n\u001b[1;33m    4) **A number raised to the third power is called a cube. For example, the cube of 2 is written as 2**3 in Python. Create a list of the first 10 cubes (that is, the cube of each integer from 1 through 10).**\u001b[0m\n\u001b[1;37m     ^\u001b[0m\n\u001b[1;31mSyntaxError\u001b[0m\u001b[1;31m:\u001b[0m invalid syntax\n"
     ]
    }
   ],
   "source": [
    "4) **A number raised to the third power is called a cube. For example, the cube of 2 is written as 2\\*\\*3 in Python. Create a list of the first 10 cubes (that is, the cube of each integer from 1 through 10).**"
   ]
  },
  {
   "cell_type": "code",
   "execution_count": 43,
   "metadata": {},
   "outputs": [
    {
     "data": {
      "text/plain": "[1, 8, 27, 64, 125, 216, 343, 512, 729, 1000]"
     },
     "execution_count": 43,
     "metadata": {},
     "output_type": "execute_result"
    }
   ],
   "source": [
    "cubes = [value**3 for value in range(1,11)]\n",
    "cubes"
   ]
  }
 ]
}