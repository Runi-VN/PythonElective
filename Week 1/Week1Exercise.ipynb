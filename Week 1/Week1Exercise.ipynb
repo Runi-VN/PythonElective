{
 "nbformat": 4,
 "nbformat_minor": 2,
 "metadata": {
  "language_info": {
   "name": "python",
   "codemirror_mode": {
    "name": "ipython",
    "version": 3
   },
   "version": "3.7.4-final"
  },
  "orig_nbformat": 2,
  "file_extension": ".py",
  "mimetype": "text/x-python",
  "name": "python",
  "npconvert_exporter": "python",
  "pygments_lexer": "ipython3",
  "version": 3,
  "kernelspec": {
   "name": "python37464bitruninvirtualenvecf6425ac64845b097be9029e7b18373",
   "display_name": "Python 3.7.4 64-bit ('runin': virtualenv)"
  }
 },
 "cells": [
  {
   "cell_type": "markdown",
   "execution_count": 3,
   "metadata": {},
   "outputs": [],
   "source": [
    "# Week 1 exercises\n",
    "### List and dictionary comprehension, loops  "
   ]
  },
  {
   "cell_type": "markdown",
   "execution_count": null,
   "metadata": {},
   "outputs": [],
   "source": [
    "### *1) Create 5 list comprehensions to solve the following 5 problems*"
   ]
  },
  {
   "cell_type": "code",
   "execution_count": 12,
   "metadata": {},
   "outputs": [
    {
     "name": "stdout",
     "output_type": "stream",
     "text": "Original: ['Anne', 'Grethe', 'Jørgen', 'Hans', 'Knud', 'Henrik']\nSorted: ['Hans', 'Henrik']\n"
    }
   ],
   "source": [
    "# A) Iterate a list of names to return a list of the names starting with H\n",
    "names = ['Anne', 'Grethe', 'Jørgen', 'Hans', 'Knud', 'Henrik']\n",
    "names_sorted = [value for value in names if value.lower().startswith('h')]\n",
    "print('Original:', names)\n",
    "print('Sorted:', names_sorted)"
   ]
  },
  {
   "cell_type": "code",
   "execution_count": 14,
   "metadata": {},
   "outputs": [
    {
     "data": {
      "text/plain": "[1,\n 8,\n 27,\n 64,\n 125,\n 216,\n 343,\n 512,\n 729,\n 1000,\n 1331,\n 1728,\n 2197,\n 2744,\n 3375,\n 4096,\n 4913,\n 5832,\n 6859,\n 8000,\n 9261,\n 10648,\n 12167,\n 13824,\n 15625,\n 17576,\n 19683,\n 21952,\n 24389,\n 27000,\n 29791,\n 32768,\n 35937,\n 39304,\n 42875,\n 46656,\n 50653,\n 54872,\n 59319,\n 64000,\n 68921,\n 74088,\n 79507,\n 85184,\n 91125,\n 97336,\n 103823,\n 110592,\n 117649,\n 125000,\n 132651,\n 140608,\n 148877,\n 157464,\n 166375,\n 175616,\n 185193,\n 195112,\n 205379,\n 216000,\n 226981,\n 238328,\n 250047,\n 262144,\n 274625,\n 287496,\n 300763,\n 314432,\n 328509,\n 343000,\n 357911,\n 373248,\n 389017,\n 405224,\n 421875,\n 438976,\n 456533,\n 474552,\n 493039,\n 512000,\n 531441,\n 551368,\n 571787,\n 592704,\n 614125,\n 636056,\n 658503,\n 681472,\n 704969,\n 729000,\n 753571,\n 778688,\n 804357,\n 830584,\n 857375,\n 884736,\n 912673,\n 941192,\n 970299,\n 1000000]"
     },
     "execution_count": 14,
     "metadata": {},
     "output_type": "execute_result"
    }
   ],
   "source": [
    "# B) In one line create a list of the numbers 1-100 to the power of 3\n",
    "number_list = [value**3 for value in range(1,101)]\n",
    "number_list"
   ]
  },
  {
   "cell_type": "code",
   "execution_count": 21,
   "metadata": {},
   "outputs": [
    {
     "data": {
      "text/plain": "[(4, 'Anne'),\n (6, 'Grethe'),\n (6, 'Jørgen'),\n (4, 'Hans'),\n (4, 'Knud'),\n (6, 'Henrik')]"
     },
     "execution_count": 21,
     "metadata": {},
     "output_type": "execute_result"
    }
   ],
   "source": [
    "# C) Iterate a list of names to create a list of tuples where the tuples first value is the length of the name and the second is the name\n",
    "\n",
    "#Using list from previous exercises\n",
    "tuple_list = [(len(value), value) for value in names]\n",
    "tuple_list"
   ]
  },
  {
   "cell_type": "code",
   "execution_count": 23,
   "metadata": {},
   "outputs": [
    {
     "data": {
      "text/plain": "['1', '3', '3', '7']"
     },
     "execution_count": 23,
     "metadata": {},
     "output_type": "execute_result"
    }
   ],
   "source": [
    "# D) Iterate over each character in a string and get only those that are nummeric\n",
    "\n",
    "test_string = 'abc1de3fhi3jjjæ7'\n",
    "numeric_list = [value for value in test_string if str.isdigit(value)] #Only works with base-10 positive integers\n",
    "numeric_list"
   ]
  },
  {
   "cell_type": "code",
   "execution_count": 42,
   "metadata": {},
   "outputs": [
    {
     "data": {
      "text/plain": "{(1, 1),\n (1, 2),\n (1, 3),\n (1, 4),\n (1, 5),\n (1, 6),\n (2, 1),\n (2, 2),\n (2, 3),\n (2, 4),\n (2, 5),\n (2, 6),\n (3, 1),\n (3, 2),\n (3, 3),\n (3, 4),\n (3, 5),\n (3, 6),\n (4, 1),\n (4, 2),\n (4, 3),\n (4, 4),\n (4, 5),\n (4, 6),\n (5, 1),\n (5, 2),\n (5, 3),\n (5, 4),\n (5, 5),\n (5, 6),\n (6, 1),\n (6, 2),\n (6, 3),\n (6, 4),\n (6, 5),\n (6, 6)}"
     },
     "execution_count": 42,
     "metadata": {},
     "output_type": "execute_result"
    }
   ],
   "source": [
    "# E) Using only a list comprehension wrapped in set() get all possible combination from throwing 2 dice\n",
    "\n",
    "dice_combinations = set([(first ,second) for first in range(1,7) for second in range(1,7)])\n",
    "dice_combinations\n",
    "#Unsure how to pair the results. This is a set with a list comprehension of tuple pairs"
   ]
  },
  {
   "cell_type": "markdown",
   "execution_count": null,
   "metadata": {},
   "outputs": [],
   "source": [
    "### *2) Create 2 dictionary comprehensions to solve the following*"
   ]
  },
  {
   "cell_type": "code",
   "execution_count": 44,
   "metadata": {},
   "outputs": [
    {
     "data": {
      "text/plain": "{'Anne': 4, 'Grethe': 6, 'Jørgen': 6, 'Hans': 4, 'Knud': 4, 'Henrik': 6}"
     },
     "execution_count": 44,
     "metadata": {},
     "output_type": "execute_result"
    }
   ],
   "source": [
    "# A) Iterate a list of names and create a dictionary where key is the name and value is the length of the name\n",
    "\n",
    "#Using same name list as before\n",
    "namelen_dict = {value:len(value) for value in names}\n",
    "namelen_dict"
   ]
  },
  {
   "cell_type": "code",
   "execution_count": 45,
   "metadata": {},
   "outputs": [
    {
     "data": {
      "text/plain": "{1: 1.0,\n 2: 1.4142135623730951,\n 3: 1.7320508075688772,\n 4: 2.0,\n 5: 2.23606797749979,\n 6: 2.449489742783178,\n 7: 2.6457513110645907,\n 8: 2.8284271247461903,\n 9: 3.0,\n 10: 3.1622776601683795}"
     },
     "execution_count": 45,
     "metadata": {},
     "output_type": "execute_result"
    }
   ],
   "source": [
    "# B) Iterate a list of numbers and create a dictionary with (key, value) being (number, squareroot of number\n",
    "import math\n",
    "\n",
    "my_numbers = [1,2,3,4,5,6,7,8,9,10]\n",
    "sqr_dict = {val:math.sqrt(val) for val in my_numbers}\n",
    "sqr_dict"
   ]
  },
  {
   "cell_type": "markdown",
   "execution_count": null,
   "metadata": {},
   "outputs": [],
   "source": [
    "### 3) Progammatically using loops create a small program to produce a dictionary with all the 2 dice throw combinations as keys and their likelyhood in percent as values"
   ]
  },
  {
   "cell_type": "code",
   "execution_count": 100,
   "metadata": {},
   "outputs": [
    {
     "name": "stdout",
     "output_type": "stream",
     "text": "basic dict {possible dice roll(2-12):0}\n {2: 0, 3: 0, 4: 0, 5: 0, 6: 0, 7: 0, 8: 0, 9: 0, 10: 0, 11: 0, 12: 0}\nadvanced dict {possible dice roll(2-12):no. of combinations}\n {2: 1, 3: 2, 4: 3, 5: 4, 6: 5, 7: 6, 8: 5, 9: 4, 10: 3, 11: 2, 12: 1}\nfinished dict {possible dice roll(2-12):probability in %)\n {2: 2.78, 3: 5.56, 4: 8.33, 5: 11.11, 6: 13.89, 7: 16.67, 8: 13.89, 9: 11.11, 10: 8.33, 11: 5.56, 12: 2.78}\n"
    }
   ],
   "source": [
    "probability_dict = {key:0 for key in range(2,13)}\n",
    "print('basic dict {possible dice roll(2-12):0}\\n', probability_dict)\n",
    "\n",
    "#create dice\n",
    "die_one = range(1,7)\n",
    "die_two = range(1,7)\n",
    "\n",
    "#roll dice\n",
    "for first in die_one:\n",
    "    for second in die_two:\n",
    "        probability_dict[first+second] +=1\n",
    "print('advanced dict {possible dice roll(2-12):no. of combinations}\\n', probability_dict)\n",
    "\n",
    "#calculate probability\n",
    "for key in probability_dict.keys():\n",
    "    value = probability_dict[key]\n",
    "    probability = value/36*100 #combination/possibilties*100(percentage)\n",
    "    probability_dict[key] = round(probability,2)\n",
    "print('finished dict {possible dice roll(2-12):probability in %)\\n', probability_dict)"
   ]
  }
 ]
}