{
 "nbformat": 4,
 "nbformat_minor": 2,
 "metadata": {
  "language_info": {
   "name": "python",
   "codemirror_mode": {
    "name": "ipython",
    "version": 3
   },
   "version": "3.7.4-final"
  },
  "orig_nbformat": 2,
  "file_extension": ".py",
  "mimetype": "text/x-python",
  "name": "python",
  "npconvert_exporter": "python",
  "pygments_lexer": "ipython3",
  "version": 3,
  "kernelspec": {
   "name": "python37464bitruninvirtualenvecf6425ac64845b097be9029e7b18373",
   "display_name": "Python 3.7.4 64-bit ('runin': virtualenv)"
  }
 },
 "cells": [
  {
   "cell_type": "markdown",
   "metadata": {},
   "source": [
    "# Exercise create generator\n",
    "### Create a generator function that can take a list of names as parameter and return each name. Get approved unisex names here:\n",
    "\n",
    "```wget -O unisex_navne.xls https://ast.dk/_namesdb/export/names?format=xls&gendermask=4```"
   ]
  },
  {
   "cell_type": "code",
   "execution_count": 71,
   "metadata": {},
   "outputs": [],
   "source": [
    "def generator(list_of_names:[]):\n",
    "    index = 0;\n",
    "    while index < len(list_of_names):\n",
    "        yield list_of_names[index]\n",
    "        index +=1;\n",
    "    raise StopIteration('u done')\n",
    "    # for name in list_of_names: #also works\n",
    "    #     yield name"
   ]
  },
  {
   "cell_type": "code",
   "execution_count": 72,
   "metadata": {},
   "outputs": [
    {
     "data": {
      "text/plain": "['Acelya']"
     },
     "execution_count": 72,
     "metadata": {},
     "output_type": "execute_result"
    }
   ],
   "source": [
    "import pandas as pd\n",
    "df = pd.read_excel('https://ast.dk/_namesdb/export/names?format=xls&gendermask=4', header=None)\n",
    "list_of_names = df.values.tolist()\n",
    "#list_of_names\n",
    "myGen = generator(list_of_names)\n",
    "next(myGen)\n",
    "next(myGen)\n",
    "next(myGen)"
   ]
  }
 ]
}