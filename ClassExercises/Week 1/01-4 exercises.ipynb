{
 "nbformat": 4,
 "nbformat_minor": 2,
 "metadata": {
  "language_info": {
   "name": "python",
   "codemirror_mode": {
    "name": "ipython",
    "version": 3
   },
   "version": "3.7.4-final"
  },
  "orig_nbformat": 2,
  "file_extension": ".py",
  "mimetype": "text/x-python",
  "name": "python",
  "npconvert_exporter": "python",
  "pygments_lexer": "ipython3",
  "version": 3,
  "kernelspec": {
   "name": "python37464bitprogramsvirtualenv017aae63ef3c4f80a70afb3bef7f7c55",
   "display_name": "Python 3.7.4 64-bit ('Programs': virtualenv)"
  }
 },
 "cells": [
  {
   "cell_type": "markdown",
   "execution_count": null,
   "metadata": {},
   "outputs": [],
   "source": [
    "# Date Decoder\n",
    "*1) A date of the form 8-MAR-85 includes the name of the month, which must be translated to a number.*  \n",
    "\n"
   ]
  },
  {
   "cell_type": "code",
   "execution_count": null,
   "metadata": {},
   "outputs": [],
   "source": []
  },
  {
   "cell_type": "markdown",
   "execution_count": null,
   "metadata": {},
   "outputs": [],
   "source": [
    "*2) Create a dict suitable for decoding month names to numbers.*"
   ]
  },
  {
   "cell_type": "code",
   "execution_count": 22,
   "metadata": {},
   "outputs": [],
   "source": [
    "decodeDict = {\n",
    "    'JAN':'01',\n",
    "    'FEB':'02',\n",
    "    'MAR':'03',\n",
    "    'APR':'04',\n",
    "    'MAY':'05',\n",
    "    'JUN':'06',\n",
    "    'JUL':'07',\n",
    "    'AUG':'08',\n",
    "    'SEP':'09',\n",
    "    'OCT':'10',\n",
    "    'NOV':'11',\n",
    "    'DEC':'12'\n",
    "}"
   ]
  },
  {
   "cell_type": "markdown",
   "execution_count": null,
   "metadata": {},
   "outputs": [],
   "source": [
    "*3) Create a function which uses string operations to split the date into 3 items using the \"-\" character.*  \n",
    "\n",
    "*4) Translate the month and return a tuple.*  \n",
    "\n",
    "*5) The function will accept a date in the \"dd-MMM-yy\" format and respond with a tuple of ( y , m , d )*"
   ]
  },
  {
   "cell_type": "code",
   "execution_count": 39,
   "metadata": {},
   "outputs": [],
   "source": [
    "import re\n",
    "def dateSplit(str_to_convert):\n",
    "    if re.match('^\\d{2}-[a-zA-Z]{3}-\\d{2}$', str_to_convert): #5 (part 1)\n",
    "         split_datestring = str_to_convert.split('-') #3\n",
    "         month_value = decodeDict[split_datestring[1]]\n",
    "         return (split_datestring[2], month_value, split_datestring[0]) #5 \n",
    "    else: raise ValueError('Input did not match the \\'yy-MMM-dd\\' format')"
   ]
  },
  {
   "cell_type": "code",
   "execution_count": 41,
   "metadata": {},
   "outputs": [
    {
     "name": "stdout",
     "output_type": "stream",
     "text": "For input 08-MAR-85 we have the following results:\n('85', '03', '08')\nyy-mm-dd as a <class 'tuple'>\n________________\n\nFor input 19-APR-94 we have the following results:\n('94', '04', '19')\nyy-mm-dd as a <class 'tuple'>\n________________\n\nFor input 1-ABC-1994 we have the following results:\n(EXPECTED ERROR)\n"
    },
    {
     "ename": "ValueError",
     "evalue": "Input did not match the 'yy-MMM-dd' format",
     "output_type": "error",
     "traceback": [
      "\u001b[1;31m---------------------------------------------------------------------------\u001b[0m",
      "\u001b[1;31mValueError\u001b[0m                                Traceback (most recent call last)",
      "\u001b[1;32m<ipython-input-41-b3268dcfd89c>\u001b[0m in \u001b[0;36m<module>\u001b[1;34m\u001b[0m\n\u001b[0;32m     16\u001b[0m \u001b[0mprint\u001b[0m\u001b[1;33m(\u001b[0m\u001b[1;34mf'For input {date_error} we have the following results:'\u001b[0m\u001b[1;33m)\u001b[0m\u001b[1;33m\u001b[0m\u001b[1;33m\u001b[0m\u001b[0m\n\u001b[0;32m     17\u001b[0m \u001b[0mprint\u001b[0m\u001b[1;33m(\u001b[0m\u001b[1;34m'(EXPECTED ERROR)'\u001b[0m\u001b[1;33m)\u001b[0m\u001b[1;33m\u001b[0m\u001b[1;33m\u001b[0m\u001b[0m\n\u001b[1;32m---> 18\u001b[1;33m \u001b[0mresult3\u001b[0m \u001b[1;33m=\u001b[0m \u001b[0mdateSplit\u001b[0m\u001b[1;33m(\u001b[0m\u001b[0mdate_error\u001b[0m\u001b[1;33m)\u001b[0m\u001b[1;33m\u001b[0m\u001b[1;33m\u001b[0m\u001b[0m\n\u001b[0m\u001b[0;32m     19\u001b[0m \u001b[0mprint\u001b[0m\u001b[1;33m(\u001b[0m\u001b[0mresult3\u001b[0m\u001b[1;33m)\u001b[0m\u001b[1;33m\u001b[0m\u001b[1;33m\u001b[0m\u001b[0m\n\u001b[0;32m     20\u001b[0m \u001b[0mprint\u001b[0m\u001b[1;33m(\u001b[0m\u001b[1;34mf'yy-mm-dd as a {type(result3)}'\u001b[0m\u001b[1;33m)\u001b[0m\u001b[1;33m\u001b[0m\u001b[1;33m\u001b[0m\u001b[0m\n",
      "\u001b[1;32m<ipython-input-39-d115869505f2>\u001b[0m in \u001b[0;36mdateSplit\u001b[1;34m(str_to_convert)\u001b[0m\n\u001b[0;32m      5\u001b[0m          \u001b[0mmonth_value\u001b[0m \u001b[1;33m=\u001b[0m \u001b[0mdecodeDict\u001b[0m\u001b[1;33m[\u001b[0m\u001b[0msplit_datestring\u001b[0m\u001b[1;33m[\u001b[0m\u001b[1;36m1\u001b[0m\u001b[1;33m]\u001b[0m\u001b[1;33m]\u001b[0m\u001b[1;33m\u001b[0m\u001b[1;33m\u001b[0m\u001b[0m\n\u001b[0;32m      6\u001b[0m          \u001b[1;32mreturn\u001b[0m \u001b[1;33m(\u001b[0m\u001b[0msplit_datestring\u001b[0m\u001b[1;33m[\u001b[0m\u001b[1;36m2\u001b[0m\u001b[1;33m]\u001b[0m\u001b[1;33m,\u001b[0m \u001b[0mmonth_value\u001b[0m\u001b[1;33m,\u001b[0m \u001b[0msplit_datestring\u001b[0m\u001b[1;33m[\u001b[0m\u001b[1;36m0\u001b[0m\u001b[1;33m]\u001b[0m\u001b[1;33m)\u001b[0m \u001b[1;31m#5\u001b[0m\u001b[1;33m\u001b[0m\u001b[1;33m\u001b[0m\u001b[0m\n\u001b[1;32m----> 7\u001b[1;33m     \u001b[1;32melse\u001b[0m\u001b[1;33m:\u001b[0m \u001b[1;32mraise\u001b[0m \u001b[0mValueError\u001b[0m\u001b[1;33m(\u001b[0m\u001b[1;34m'Input did not match the \\'yy-MMM-dd\\' format'\u001b[0m\u001b[1;33m)\u001b[0m\u001b[1;33m\u001b[0m\u001b[1;33m\u001b[0m\u001b[0m\n\u001b[0m",
      "\u001b[1;31mValueError\u001b[0m: Input did not match the 'yy-MMM-dd' format"
     ]
    }
   ],
   "source": [
    "#Test of method\n",
    "date_1 = '08-MAR-85'\n",
    "date_2 = '19-APR-94'\n",
    "date_error = '1-ABC-1994' #does not match required format\n",
    "\n",
    "print(f'For input {date_1} we have the following results:')\n",
    "result1 = dateSplit(date_1)\n",
    "print(result1)\n",
    "print(f'yy-mm-dd as a {type(result1)}')\n",
    "print('________________\\n')\n",
    "print(f'For input {date_2} we have the following results:')\n",
    "result2 = dateSplit(date_2)\n",
    "print(result2)\n",
    "print(f'yy-mm-dd as a {type(result2)}')\n",
    "print('________________\\n')\n",
    "print(f'For input {date_error} we have the following results:')\n",
    "print('(EXPECTED ERROR)')\n",
    "result3 = dateSplit(date_error)\n",
    "print(result3)\n",
    "print(f'yy-mm-dd as a {type(result3)}')"
   ]
  }
 ]
}